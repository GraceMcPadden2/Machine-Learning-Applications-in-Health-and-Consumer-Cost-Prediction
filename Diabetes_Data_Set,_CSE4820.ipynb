{
  "nbformat": 4,
  "nbformat_minor": 0,
  "metadata": {
    "colab": {
      "provenance": [],
      "gpuType": "L4"
    },
    "kernelspec": {
      "name": "python3",
      "display_name": "Python 3"
    },
    "language_info": {
      "name": "python"
    },
    "accelerator": "GPU"
  },
  "cells": [
    {
      "cell_type": "code",
      "source": [
        "import pandas as pd\n",
        "\n",
        "#Import for SVM\n",
        "df = pd.read_csv('diabetes.csv')\n",
        "columns_to_filter = ['Insulin', 'BloodPressure', 'Glucose', 'SkinThickness', 'BMI', 'Age']\n",
        "\n",
        "num_rows = len(df)\n",
        "df = df[(df[columns_to_filter] != 0).all(axis=1)]\n",
        "num_rows_filtered = len(df)\n",
        "\n",
        "print(df['Outcome'].value_counts())\n",
        "print(f\"Number of rows before filtering: {num_rows}\")\n",
        "print(f\"Number of rows after filtering: {num_rows_filtered}\")\n"
      ],
      "metadata": {
        "colab": {
          "base_uri": "https://localhost:8080/"
        },
        "id": "Nth4yZFwFYiP",
        "outputId": "8c08a3e0-25e5-48d7-8d5b-b4f7d4768fc7"
      },
      "execution_count": 2,
      "outputs": [
        {
          "output_type": "stream",
          "name": "stdout",
          "text": [
            "Outcome\n",
            "0    262\n",
            "1    130\n",
            "Name: count, dtype: int64\n",
            "Number of rows before filtering: 768\n",
            "Number of rows after filtering: 392\n"
          ]
        }
      ]
    },
    {
      "cell_type": "code",
      "source": [
        "#SVM FOR DIABETES DATA SET\n",
        "\n",
        "#Classification, Predict weather patient will have heart failure\n",
        "import pandas as pd\n",
        "\n",
        "#Import for SVM\n",
        "from sklearn.model_selection import train_test_split\n",
        "from sklearn.svm import SVC\n",
        "from sklearn.preprocessing import StandardScaler\n",
        "from sklearn.metrics import accuracy_score\n",
        "from sklearn.preprocessing import StandardScaler\n",
        "\n",
        "#Import for generating confusion matrix\n",
        "from sklearn.metrics import confusion_matrix, classification_report\n",
        "import seaborn as sns\n",
        "import matplotlib.pyplot as plt\n",
        "\n",
        "\n",
        "df = pd.read_csv('diabetes.csv')\n",
        "columns_to_filter = ['Insulin', 'BloodPressure', 'Glucose', 'SkinThickness', 'BMI', 'Age', 'DiabetesPedigreeFunction']\n",
        "\n",
        "# Clearn Data, remove rows containing 0 (Indicating no data)\n",
        "df = df[(df[columns_to_filter] != 0).all(axis=1)]\n",
        "\n",
        "\n",
        "#SVM Classificaiton\n",
        "X = df.drop('Outcome', axis = 1)\n",
        "y = df['Outcome']\n",
        "\n",
        "#normalize data\n",
        "scaler = StandardScaler()\n",
        "X_scaled = scaler.fit_transform(X)\n",
        "X_train, X_test, y_train, y_test = train_test_split(X_scaled, y, test_size=0.2,random_state=0)\n",
        "\n",
        "X_train_scaled = scaler.fit_transform(X_train)\n",
        "X_test_scaled = scaler.transform(X_test)\n",
        "\n",
        "max = 0\n",
        "for c in [0.01, 0.1, 1, 10]:\n",
        "  for k in ['linear', 'rbf', 'poly']:\n",
        "    model = SVC(kernel = k, C = c)\n",
        "    model.fit(X_train_scaled, y_train)\n",
        "\n",
        "    y_pred = model.predict(X_test_scaled)\n",
        "    accuracy = accuracy_score(y_test, y_pred)\n",
        "\n",
        "    if accuracy > max:\n",
        "      best_model = model\n",
        "      params = {\"C\":c, \"kernel\":k}\n",
        "      max = accuracy\n",
        "\n",
        "print(\"max accuracy:\",max, params)\n",
        "\n",
        "#Results\n",
        "y_pred = best_model.predict(X_test)\n",
        "\n",
        "cm = confusion_matrix(y_test, y_pred)\n",
        "print(\"Confusion Matrix:\\n\", cm)\n",
        "\n",
        "print(\"Classification Report:\\n\", classification_report(y_test, y_pred))\n",
        "\n",
        "sns.heatmap(cm, annot=True, fmt='d', cmap='Purples')\n",
        "plt.xlabel(\"Predicted\")\n",
        "plt.ylabel(\"Actual\")\n",
        "plt.title(\"Confusion Matrix: C= 1 Kernal= rbf class_weight = Balanced\")\n",
        "plt.show()\n"
      ],
      "metadata": {
        "colab": {
          "base_uri": "https://localhost:8080/",
          "height": 722
        },
        "id": "LbrnOx2F3d70",
        "outputId": "380a46f6-5fde-4892-df73-2334b028f828"
      },
      "execution_count": 97,
      "outputs": [
        {
          "output_type": "stream",
          "name": "stdout",
          "text": [
            "max accuracy: 0.810126582278481 {'C': 0.01, 'kernel': 'linear'}\n",
            "Confusion Matrix:\n",
            " [[51  3]\n",
            " [12 13]]\n",
            "Classification Report:\n",
            "               precision    recall  f1-score   support\n",
            "\n",
            "           0       0.81      0.94      0.87        54\n",
            "           1       0.81      0.52      0.63        25\n",
            "\n",
            "    accuracy                           0.81        79\n",
            "   macro avg       0.81      0.73      0.75        79\n",
            "weighted avg       0.81      0.81      0.80        79\n",
            "\n"
          ]
        },
        {
          "output_type": "display_data",
          "data": {
            "text/plain": [
              "<Figure size 640x480 with 2 Axes>"
            ],
            "image/png": "[encoded data removed]"
          },
          "metadata": {}
        }
      ]
    },
    {
      "cell_type": "code",
      "source": [
        "#KNN FOR DIABETES DATA SET\n",
        "\n",
        "import pandas as pd\n",
        "from sklearn.model_selection import train_test_split\n",
        "from sklearn.preprocessing import StandardScaler\n",
        "from sklearn.neighbors import KNeighborsClassifier\n",
        "\n",
        "from sklearn.metrics import classification_report, confusion_matrix, accuracy_score\n",
        "import seaborn as sns\n",
        "import matplotlib.pyplot as plt\n",
        "\n",
        "#Load dataset\n",
        "df = pd.read_csv('diabetes.csv')\n",
        "columns_to_filter = ['Insulin', 'BloodPressure', 'Glucose', 'SkinThickness', 'BMI', 'Age', 'DiabetesPedigreeFunction']\n",
        "\n",
        "#clearn Data, remove rows containing 0 (Indicating no data)\n",
        "df = df[(df[columns_to_filter] != 0).all(axis=1)]\n",
        "\n",
        "\n",
        "#SVM Classificaiton\n",
        "X = df.drop('Outcome', axis = 1)\n",
        "y = df['Outcome']\n",
        "\n",
        "#normalize data\n",
        "scaler = StandardScaler()\n",
        "X_scaled = scaler.fit_transform(X)\n",
        "X_train, X_test, y_train, y_test = train_test_split(X_scaled, y, test_size=0.2,random_state=0)\n",
        "\n",
        "X_train_scaled = scaler.fit_transform(X_train)\n",
        "X_test_scaled = scaler.transform(X_test)\n",
        "\n",
        "max = 0\n",
        "for n in [1,2,3,4,5,6,7,8,9,10]:\n",
        "  knn = KNeighborsClassifier(n_neighbors=n)  # Try different values for k\n",
        "\n",
        "  # Train\n",
        "  knn.fit(X_train_scaled, y_train)\n",
        "\n",
        "  y_pred = knn.predict(X_test_scaled)\n",
        "  score = knn.score(X_test_scaled, y_test)\n",
        "\n",
        "  if score > max:\n",
        "    best_model = knn\n",
        "    params = {\"N\":n}\n",
        "    max = score\n",
        "\n",
        "print(\"max accuracy:\",max, params)\n",
        "\n",
        "#Results\n",
        "y_pred = best_model.predict(X_test)\n",
        "\n",
        "cm = confusion_matrix(y_test, y_pred)\n",
        "print(\"Confusion Matrix:\\n\", cm)\n",
        "\n",
        "print(\"Classification Report:\\n\", classification_report(y_test, y_pred))\n",
        "\n",
        "sns.heatmap(cm, annot=True, fmt='d', cmap='Greens')\n",
        "plt.xlabel(\"Predicted\")\n",
        "plt.ylabel(\"Actual\")\n",
        "plt.title(\"Confusion Matrix: N = 3\")\n",
        "plt.show()"
      ],
      "metadata": {
        "colab": {
          "base_uri": "https://localhost:8080/",
          "height": 722
        },
        "id": "eIQV4Mli65v5",
        "outputId": "a84c9223-b7ed-430c-9090-aefa99afa945"
      },
      "execution_count": 106,
      "outputs": [
        {
          "output_type": "stream",
          "name": "stdout",
          "text": [
            "max accuracy: 0.8354430379746836 {'N': 3}\n",
            "Confusion Matrix:\n",
            " [[49  5]\n",
            " [ 9 16]]\n",
            "Classification Report:\n",
            "               precision    recall  f1-score   support\n",
            "\n",
            "           0       0.84      0.91      0.88        54\n",
            "           1       0.76      0.64      0.70        25\n",
            "\n",
            "    accuracy                           0.82        79\n",
            "   macro avg       0.80      0.77      0.79        79\n",
            "weighted avg       0.82      0.82      0.82        79\n",
            "\n"
          ]
        },
        {
          "output_type": "display_data",
          "data": {
            "text/plain": [
              "<Figure size 640x480 with 2 Axes>"
            ],
            "image/png": "[encoded data removed]"
          },
          "metadata": {}
        }
      ]
    }
  ]
}